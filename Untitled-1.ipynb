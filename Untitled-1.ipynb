{
 "cells": [
  {
   "cell_type": "code",
   "execution_count": null,
   "id": "d17b06a4",
   "metadata": {},
   "outputs": [],
   "source": [
    "from flask import jsonify, request\n",
    "import pandas as pd\n",
    "\n",
    "def function():\n",
    "\n",
    "\n",
    "    # Obtenemos los datos del cuerpo\n",
    "    data = request.get_json()\n",
    "\n",
    "    # Comprobamos que están todos los campos necesarios\n",
    "    required_fields = [\n",
    "        'year', 'brand', 'model', 'vehicle_class', 'engine_size', 'cylinders',\n",
    "        'transmission', 'fuel_type', 'fuel_city_Lkm', 'fuel_hwy_Lkm', 'co2'\n",
    "    ]\n",
    "\n",
    "    # En caso de que falten datos, aparecerá un error\n",
    "    missing_fields = [field for field in required_fields if field not in data]\n",
    "    if missing_fields:\n",
    "        return jsonify({'error': f'Faltan campos: {\", \".join(missing_fields)}'}), 400\n",
    "\n",
    "    # Creamos una lista de diccionarios para pasárselo al pipeline\n",
    "    input_data = pd.DataFrame(data)\n",
    "    input_data['fuel_comb_Lkm'] = 0\n",
    "    input_data['fuel_comb_mpg'] = 0\n",
    "\n",
    "    # Cargamos el modelo\n",
    "    import joblib\n",
    "    modelo = joblib.load(\"model.joblib\")\n",
    "\n",
    "    # Predicción y devolvemos el resultado\n",
    "    prediction = modelo.predict(input_data)\n",
    "    \n",
    "    return jsonify({'prediction': prediction[0]})"
   ]
  }
 ],
 "metadata": {
  "kernelspec": {
   "display_name": "env",
   "language": "python",
   "name": "python3"
  },
  "language_info": {
   "name": "python",
   "version": "3.9.13"
  }
 },
 "nbformat": 4,
 "nbformat_minor": 5
}
